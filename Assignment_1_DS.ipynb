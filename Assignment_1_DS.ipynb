{
  "nbformat": 4,
  "nbformat_minor": 0,
  "metadata": {
    "colab": {
      "name": "Copy of Assignment -1 - DS.ipynb",
      "provenance": [],
      "collapsed_sections": [],
      "include_colab_link": true
    },
    "kernelspec": {
      "name": "python3",
      "display_name": "Python 3"
    }
  },
  "cells": [
    {
      "cell_type": "markdown",
      "metadata": {
        "id": "view-in-github",
        "colab_type": "text"
      },
      "source": [
        "<a href=\"https://colab.research.google.com/github/jitu619/SHALA2020/blob/master/Assignment_1_DS.ipynb\" target=\"_parent\"><img src=\"https://colab.research.google.com/assets/colab-badge.svg\" alt=\"Open In Colab\"/></a>"
      ]
    },
    {
      "cell_type": "markdown",
      "metadata": {
        "id": "hmr2U-GChnlR",
        "colab_type": "text"
      },
      "source": [
        "\n",
        "# **Assignment - 1 : Getting Started**\n",
        "\n",
        "---\n",
        "\n",
        "This assignment will get you familiarized with python libraries required for ***data science*** and ***machine learning***. You will have to complete the code snippets and run them. "
      ]
    },
    {
      "cell_type": "markdown",
      "metadata": {
        "id": "211pD45xEO0u",
        "colab_type": "text"
      },
      "source": [
        "## **Note :**   Use only the methods and attributes of the ```numpy``` library. **Do not** hard-code them. Avoid loops as much as possible."
      ]
    },
    {
      "cell_type": "markdown",
      "metadata": {
        "id": "O7v9C4mun3SQ",
        "colab_type": "text"
      },
      "source": [
        "---\n",
        "## Part - 1\n",
        " In this part, you will work with the library ```numpy```. \n",
        "\n",
        "\n"
      ]
    },
    {
      "cell_type": "markdown",
      "metadata": {
        "id": "846yDaXQwiMD",
        "colab_type": "text"
      },
      "source": [
        "Import ```numpy``` with an alias name ```np```. Initialize two arrays $a$, $b$ of size $3 \\times 5$ with random values and print them. "
      ]
    },
    {
      "cell_type": "code",
      "metadata": {
        "id": "_MyeCO3_o3oq",
        "colab_type": "code",
        "colab": {
          "base_uri": "https://localhost:8080/",
          "height": 118
        },
        "outputId": "2b861fc5-d5b7-4543-8fdf-ade63df3784e"
      },
      "source": [
        "import numpy as np\n",
        "a=np.random.random_sample((3,5))\n",
        "b=np.random.random_sample((3,5))\n",
        "print(\"a {}\".format(a))\n",
        "print(\"b {}\".format(b))"
      ],
      "execution_count": 22,
      "outputs": [
        {
          "output_type": "stream",
          "text": [
            "a [[0.9455642  0.17468389 0.88460618 0.27455804 0.81149362]\n",
            " [0.47964627 0.83580689 0.26260128 0.69346516 0.79292421]\n",
            " [0.47023816 0.46531228 0.81254821 0.845319   0.14575079]]\n",
            "b [[0.61994047 0.91123493 0.11842165 0.53939153 0.96345694]\n",
            " [0.99308575 0.41297616 0.2168791  0.8667018  0.6322413 ]\n",
            " [0.06991747 0.51132352 0.12424313 0.81131025 0.07727474]]\n"
          ],
          "name": "stdout"
        }
      ]
    },
    {
      "cell_type": "markdown",
      "metadata": {
        "id": "p7jtpYT4wiO6",
        "colab_type": "text"
      },
      "source": [
        "Initialize and print two arrays $c$ and $d$ having the following properties:\n",
        "*   $c$ is a row vector with all non-negative integer values less than 100\n",
        "* $d$ is a square matrix of size 3 having all entries as 0.0"
      ]
    },
    {
      "cell_type": "code",
      "metadata": {
        "id": "a2lJdRf8x9f2",
        "colab_type": "code",
        "colab": {
          "base_uri": "https://localhost:8080/",
          "height": 185
        },
        "outputId": "502f2076-1e0f-41d9-8675-8417cd7c4286"
      },
      "source": [
        "#As 0 is neither negetive nor postive so ideally i should omit it\n",
        "#but later in the assigment we have to reshape it to 10*10\n",
        "#therefore including 0\n",
        "c=np.arange(0,100)\n",
        "print(c)\n",
        "print(c.shape)\n",
        "\n",
        "d=np.zeros((3,3),dtype=float)\n",
        "print(d)\n",
        "print(d.shape)\n"
      ],
      "execution_count": 16,
      "outputs": [
        {
          "output_type": "stream",
          "text": [
            "[ 0  1  2  3  4  5  6  7  8  9 10 11 12 13 14 15 16 17 18 19 20 21 22 23\n",
            " 24 25 26 27 28 29 30 31 32 33 34 35 36 37 38 39 40 41 42 43 44 45 46 47\n",
            " 48 49 50 51 52 53 54 55 56 57 58 59 60 61 62 63 64 65 66 67 68 69 70 71\n",
            " 72 73 74 75 76 77 78 79 80 81 82 83 84 85 86 87 88 89 90 91 92 93 94 95\n",
            " 96 97 98 99]\n",
            "(100,)\n",
            "[[0. 0. 0.]\n",
            " [0. 0. 0.]\n",
            " [0. 0. 0.]]\n",
            "(3, 3)\n"
          ],
          "name": "stdout"
        }
      ]
    },
    {
      "cell_type": "markdown",
      "metadata": {
        "id": "qqgtSsa88Zmh",
        "colab_type": "text"
      },
      "source": [
        "We have $e$ as following : ```e = [[1,2,3],[4,5,6],[7,8,9]]```. Change $e$ as a numpy array and print it."
      ]
    },
    {
      "cell_type": "code",
      "metadata": {
        "id": "Krhm4bVE7RET",
        "colab_type": "code",
        "colab": {
          "base_uri": "https://localhost:8080/",
          "height": 84
        },
        "outputId": "dac0e73d-6389-4249-d412-327b6fdcc7d3"
      },
      "source": [
        "e = [[1,2,3],[4,5,6],[7,8,9]]\n",
        "e=np.array(e)\n",
        "print(e)\n",
        "type(e)\n",
        "\n"
      ],
      "execution_count": 10,
      "outputs": [
        {
          "output_type": "stream",
          "text": [
            "[[1 2 3]\n",
            " [4 5 6]\n",
            " [7 8 9]]\n"
          ],
          "name": "stdout"
        },
        {
          "output_type": "execute_result",
          "data": {
            "text/plain": [
              "numpy.ndarray"
            ]
          },
          "metadata": {
            "tags": []
          },
          "execution_count": 10
        }
      ]
    },
    {
      "cell_type": "markdown",
      "metadata": {
        "id": "1qTikI0foam9",
        "colab_type": "text"
      },
      "source": [
        "$f$ and $g$ are two square matrices of size 5 such that all the entries of $f$ are 1 and $g$ is an identity matrix. Initialize them and print them"
      ]
    },
    {
      "cell_type": "code",
      "metadata": {
        "id": "DvaLckI49aBV",
        "colab_type": "code",
        "colab": {
          "base_uri": "https://localhost:8080/",
          "height": 185
        },
        "outputId": "7769dd81-e0e6-4528-edd9-89c14aaa605f"
      },
      "source": [
        "f=np.ones((5,5),dtype=int)\n",
        "print(f)\n",
        "\n",
        "g=np.eye(5)\n",
        "print(g)"
      ],
      "execution_count": 15,
      "outputs": [
        {
          "output_type": "stream",
          "text": [
            "[[1 1 1 1 1]\n",
            " [1 1 1 1 1]\n",
            " [1 1 1 1 1]\n",
            " [1 1 1 1 1]\n",
            " [1 1 1 1 1]]\n",
            "[[1. 0. 0. 0. 0.]\n",
            " [0. 1. 0. 0. 0.]\n",
            " [0. 0. 1. 0. 0.]\n",
            " [0. 0. 0. 1. 0.]\n",
            " [0. 0. 0. 0. 1.]]\n"
          ],
          "name": "stdout"
        }
      ]
    },
    {
      "cell_type": "markdown",
      "metadata": {
        "id": "gcBZAZibAKcg",
        "colab_type": "text"
      },
      "source": [
        "Reshape $c$ into a $10 \\times 10$ matrix and name it $h$. Now flatten $h$, call it $c^\\prime$ and print **YES** when the shapes of $c$ and $c^\\prime$ are same. Otherwise print **NO**."
      ]
    },
    {
      "cell_type": "code",
      "metadata": {
        "id": "I71vtO9bA9Pi",
        "colab_type": "code",
        "colab": {
          "base_uri": "https://localhost:8080/",
          "height": 67
        },
        "outputId": "446116c7-caba-4a50-f0fc-5e03c6bd3c85"
      },
      "source": [
        "h=c.reshape((10,10))\n",
        "print(h.shape)\n",
        "\n",
        "c_new=h.flatten()\n",
        "print(c_new.shape)\n",
        "\n",
        "if h.shape==c_new.shape:\n",
        "  print(\"YES\")\n",
        "else:\n",
        "  print(\"NO\")"
      ],
      "execution_count": 24,
      "outputs": [
        {
          "output_type": "stream",
          "text": [
            "(10, 10)\n",
            "(100,)\n",
            "NO\n"
          ],
          "name": "stdout"
        }
      ]
    },
    {
      "cell_type": "markdown",
      "metadata": {
        "id": "8FrecDPiA-Bv",
        "colab_type": "text"
      },
      "source": [
        "Let $A$ denote a randomly initialized three dimensional matrix of shape (2,10,5). Transpose $A$, call it $A^\\prime$, such that its shape is (5,2,10) and print it."
      ]
    },
    {
      "cell_type": "code",
      "metadata": {
        "id": "VbOKqSm6Bkaq",
        "colab_type": "code",
        "colab": {
          "base_uri": "https://localhost:8080/",
          "height": 437
        },
        "outputId": "f4bde860-0d4a-4bf2-f50c-960aad7a3215"
      },
      "source": [
        "A = np.random.rand(2,10,5)\n",
        "A_new=A.transpose((2,0,1))\n",
        "print(A_new.shape)\n",
        "print(A_new)\n",
        "\n"
      ],
      "execution_count": 32,
      "outputs": [
        {
          "output_type": "stream",
          "text": [
            "(5, 2, 10)\n",
            "[[[0.78529916 0.97482453 0.37818845 0.94842557 0.23751634 0.34722929\n",
            "   0.40736275 0.00305909 0.35541432 0.6586474 ]\n",
            "  [0.76366433 0.50300473 0.60600371 0.77382571 0.0659379  0.23878847\n",
            "   0.95272012 0.11965984 0.29356078 0.18796495]]\n",
            "\n",
            " [[0.20452271 0.78085723 0.99861721 0.17780671 0.35838213 0.53189972\n",
            "   0.61282906 0.61022998 0.65210591 0.35541792]\n",
            "  [0.46176631 0.066098   0.60447778 0.42077713 0.66878748 0.45988059\n",
            "   0.80743686 0.5233146  0.09600893 0.1630193 ]]\n",
            "\n",
            " [[0.41990275 0.2265907  0.88599886 0.48306325 0.82700793 0.08659911\n",
            "   0.40593638 0.30289462 0.95269266 0.96861693]\n",
            "  [0.70754612 0.48973199 0.00892946 0.70918934 0.42734387 0.91296509\n",
            "   0.18069105 0.77402493 0.17268587 0.3763815 ]]\n",
            "\n",
            " [[0.17546753 0.17194399 0.91868201 0.31705337 0.25219799 0.05487532\n",
            "   0.01287025 0.7794712  0.1988148  0.11135789]\n",
            "  [0.68064599 0.624252   0.44309585 0.84868627 0.42605171 0.51806899\n",
            "   0.23906786 0.53814128 0.76774245 0.00495059]]\n",
            "\n",
            " [[0.45102247 0.9499035  0.26985636 0.99125703 0.21850594 0.97334383\n",
            "   0.47402001 0.9319011  0.61646261 0.08687537]\n",
            "  [0.44149477 0.93373171 0.71269967 0.28051111 0.43683325 0.47285011\n",
            "   0.92342152 0.97030058 0.06191934 0.2394601 ]]]\n"
          ],
          "name": "stdout"
        }
      ]
    },
    {
      "cell_type": "markdown",
      "metadata": {
        "id": "xR2zd-nkCani",
        "colab_type": "text"
      },
      "source": [
        "You have a matrix $X$ of size (10,5) filled with random values. Print the following :\n",
        "* Minimum value and index where it occured, for each column\n",
        "* Maximum value and the index where it occured, for each column\n",
        "* Minimum value and index where it occured, for each row\n",
        "* Maximum value and index where it occured, for each row\n",
        "* Minimum value and index where it occured, for the entire matrix\n",
        "* Maximum value and index where it occured, for the entire matrix"
      ]
    },
    {
      "cell_type": "code",
      "metadata": {
        "id": "FR2Wd4fWD_Og",
        "colab_type": "code",
        "colab": {
          "base_uri": "https://localhost:8080/",
          "height": 151
        },
        "outputId": "43f43af1-0d41-4e1e-a486-690676450061"
      },
      "source": [
        "np.random.seed(0)\n",
        "X = np.random.rand(10,5)\n",
        "# print(X)\n",
        "# Minimum value and index where it occured, for each column\n",
        "print(X.min(axis=0),X.argmin(axis=0))\n",
        "# Maximum value and the index where it occured, for each column\n",
        "print(X.max(axis=0),X.argmax(axis=0))\n",
        "# Minimum value and index where it occured, for each row\n",
        "print(X.min(axis=1),X.argmin(axis=1))\n",
        "# Maximum value and index where it occured, for each row\n",
        "print(X.min(axis=1),X.argmin(axis=1))\n",
        "# Minimum value and index where it occured, for the entire matrix\n",
        "print(X.min(),X.argmin())\n",
        "# Maximum value and index where it occured, for the entire matrix\n",
        "print(X.max(),X.argmax())\n"
      ],
      "execution_count": 37,
      "outputs": [
        {
          "output_type": "stream",
          "text": [
            "[0.0871293  0.0202184  0.1289263  0.06022547 0.0187898 ] [3 3 9 8 6]\n",
            "[0.97861834 0.79915856 0.94466892 0.96366276 0.87001215] [4 4 5 1 3]\n",
            "[0.4236548  0.38344152 0.07103606 0.0202184  0.11827443 0.14335329\n",
            " 0.0187898  0.61209572 0.06022547 0.1289263 ] [4 4 4 1 4 1 4 1 3 2]\n",
            "[0.4236548  0.38344152 0.07103606 0.0202184  0.11827443 0.14335329\n",
            " 0.0187898  0.61209572 0.06022547 0.1289263 ] [4 4 4 1 4 1 4 1 3 2]\n",
            "0.018789800436355142 34\n",
            "0.978618342232764 20\n"
          ],
          "name": "stdout"
        }
      ]
    },
    {
      "cell_type": "markdown",
      "metadata": {
        "id": "YpjW2ypkEGtS",
        "colab_type": "text"
      },
      "source": [
        "Find and print the following for the matrix X: \n",
        "* Mean of each row and column\n",
        "* Standard deviation of each row and column\n",
        "* Mean of the entire matrix\n",
        "* Standard deviation of entire matrix"
      ]
    },
    {
      "cell_type": "code",
      "metadata": {
        "id": "gMdm2pw0GWjf",
        "colab_type": "code",
        "colab": {
          "base_uri": "https://localhost:8080/",
          "height": 151
        },
        "outputId": "0201cce6-4ce4-4a1f-8437-4202eafad082"
      },
      "source": [
        "# Mean of each row\n",
        "print(X.mean(axis=1))\n",
        "# Mean of each column\n",
        "print(X.mean(axis=0))\n",
        "# Standard deviation of each row\n",
        "print(X.std(axis=1))\n",
        "# Standard deviation of each column\n",
        "print(X.std(axis=0))\n",
        "# Mean of the entire matrix\n",
        "print(X.mean())\n",
        "# Standard deviation of entire matrix\n",
        "print(X.std())"
      ],
      "execution_count": 44,
      "outputs": [
        {
          "output_type": "stream",
          "text": [
            "[0.56706085 0.66447172 0.57705944 0.51762729 0.62761197 0.5328907\n",
            " 0.41643268 0.69444672 0.44423265 0.33781717]\n",
            "[0.56044382 0.46781457 0.62009909 0.64025127 0.40121685]\n",
            "[0.09445299 0.23322986 0.29189733 0.38052993 0.30431633 0.26338419\n",
            " 0.25841437 0.12727959 0.23169975 0.18537332]\n",
            "[0.24687647 0.25752158 0.22948615 0.28054144 0.26584905]\n",
            "0.5379651182755409\n",
            "0.27226582292177587\n"
          ],
          "name": "stdout"
        }
      ]
    },
    {
      "cell_type": "markdown",
      "metadata": {
        "id": "7dw7W8HOGXKA",
        "colab_type": "text"
      },
      "source": [
        "Let $Y$ denote a square matrix of size 10 with random values. Print the following:\n",
        "* Determinant\n",
        "* Rank of the matrix\n",
        "* Diagonal Elements\n",
        "* Trace\n",
        "* Eigen values\n",
        "* Matrices obtained after Singular Value Decomposition\n",
        "* Inverse if exists, otherwise Pseudo-Inverse\n",
        "* Multiplication $Y$ with $X$\n",
        "* Element-wise multiplication of $Y$ and its inverse(or pseudo-inverse)"
      ]
    },
    {
      "cell_type": "code",
      "metadata": {
        "id": "Tswbn9hgL7yi",
        "colab_type": "code",
        "colab": {
          "base_uri": "https://localhost:8080/",
          "height": 1000
        },
        "outputId": "f78f26a7-7eb3-4d49-b504-c7dbc7203be5"
      },
      "source": [
        "np.random.seed(3)\n",
        "Y = np.random.rand(10,10)\n",
        "# Determinant\n",
        "print(np.linalg.det(Y))\n",
        "# Rank of the matrix\n",
        "print(np.linalg.matrix_rank(Y))\n",
        "# Diagonal Elements\n",
        "print(np.diag(Y))\n",
        "# Trace\n",
        "print(np.trace(Y))\n",
        "# Eigen values\n",
        "eigen_val,eigen_vec=np.linalg.eig(Y)\n",
        "print(eigen_val)\n",
        "# Matrices obtained after Singular Value Decomposition\n",
        "u,S,VT=np.linalg.svd(Y)\n",
        "# Inverse if exists, otherwise Pseudo-Inverse\n",
        "inverse=np.linalg.inv(Y)\n",
        "psuedo_inverse=np.linalg.pinv(Y)\n",
        "# Multiplication Y with X\n",
        "print(np.matmul(Y,X))\n",
        "# Element-wise multiplication of  Y  and its inverse(or pseudo-inverse)\n",
        "print(np.dot(Y,inverse))"
      ],
      "execution_count": 60,
      "outputs": [
        {
          "output_type": "stream",
          "text": [
            "-0.012807808169095483\n",
            "10\n",
            "[0.5507979  0.45683322 0.44045372 0.84575087 0.4576864  0.36217621\n",
            " 0.06152893 0.19897603 0.92672568 0.19638058]\n",
            "4.497309545724899\n",
            "[ 4.797525  +0.j          0.72411408+0.52238181j  0.72411408-0.52238181j\n",
            " -0.48250062+0.55413671j -0.48250062-0.55413671j -0.6909002 +0.j\n",
            " -0.25905659+0.32357377j -0.25905659-0.32357377j  0.2127855 +0.08352477j\n",
            "  0.2127855 -0.08352477j]\n",
            "[[2.95726101 2.04939653 3.09073485 3.22311637 1.78554985]\n",
            " [2.61266989 1.75663954 2.48635951 2.79783984 1.50654432]\n",
            " [2.98361778 2.02894044 2.82637865 2.88685728 1.69799548]\n",
            " [2.98565892 2.85485651 3.58995669 4.0073463  2.2697569 ]\n",
            " [2.49815821 1.97791033 2.77809758 2.71690515 1.59098767]\n",
            " [2.72146909 2.39905911 2.58780909 2.78212857 1.71792628]\n",
            " [2.22935358 1.74438251 2.94718357 2.48955906 2.05838199]\n",
            " [2.30476788 1.92350098 2.41698824 2.81379687 1.38016019]\n",
            " [2.91925254 2.36604123 3.53647969 3.30424184 2.52990887]\n",
            " [3.39559098 2.84629279 4.05845051 4.01068273 2.35816262]]\n"
          ],
          "name": "stdout"
        },
        {
          "output_type": "execute_result",
          "data": {
            "text/plain": [
              "array([[ 1.00000000e+00, -3.90793144e-17,  3.65935406e-16,\n",
              "         3.11342944e-16, -8.91983549e-16, -4.81506510e-17,\n",
              "        -1.42655871e-16, -6.91246638e-16, -6.67910040e-17,\n",
              "         1.33795870e-16],\n",
              "       [ 1.42780307e-17,  1.00000000e+00, -6.98095657e-17,\n",
              "        -1.52151045e-16, -4.63427918e-16, -1.05178821e-16,\n",
              "         4.44443766e-17, -9.87040861e-17,  1.06466168e-16,\n",
              "        -1.58597206e-16],\n",
              "       [-1.44191947e-17, -4.68953161e-17,  1.00000000e+00,\n",
              "         4.77076242e-17, -6.49165003e-16, -6.78141792e-17,\n",
              "        -9.36855690e-18, -9.73600834e-16, -3.16087494e-17,\n",
              "        -1.18238356e-16],\n",
              "       [-1.41735142e-16,  2.10254036e-16,  1.43559668e-17,\n",
              "         1.00000000e+00,  5.52648957e-17, -8.23073740e-18,\n",
              "        -1.72594927e-18,  7.33409702e-17,  4.69571374e-17,\n",
              "        -2.73245897e-16],\n",
              "       [-1.71385362e-17, -3.79289464e-18, -2.27088068e-16,\n",
              "         1.03307474e-16,  1.00000000e+00, -2.64623779e-17,\n",
              "         1.14447652e-16,  2.15787383e-17, -1.42660749e-17,\n",
              "        -2.17474454e-16],\n",
              "       [-8.26384805e-17,  1.20440776e-16, -4.69445243e-17,\n",
              "        -3.74729367e-17,  9.72134814e-16,  1.00000000e+00,\n",
              "         1.81161593e-17,  2.13127233e-16, -7.72471485e-17,\n",
              "        -1.30656837e-16],\n",
              "       [ 3.53786975e-16,  2.66066463e-18, -6.15228131e-17,\n",
              "         1.38960755e-16, -1.33510130e-15,  2.62173396e-17,\n",
              "         1.00000000e+00, -3.76182195e-16, -7.02445804e-17,\n",
              "         2.06159764e-16],\n",
              "       [-2.75842016e-16, -7.28598118e-17, -2.34103860e-16,\n",
              "         2.80898127e-17, -1.39319386e-16,  1.41600267e-16,\n",
              "        -4.52961673e-17,  1.00000000e+00, -2.64462855e-17,\n",
              "        -7.90426564e-17],\n",
              "       [-6.53027597e-17,  1.25653075e-16,  5.18133677e-17,\n",
              "         1.96668895e-17, -3.92404830e-16, -2.59855724e-17,\n",
              "         2.19914269e-18,  2.18871633e-17,  1.00000000e+00,\n",
              "        -5.87793126e-18],\n",
              "       [-1.92650595e-16,  2.94720021e-16,  1.10584317e-16,\n",
              "         1.69940671e-16,  3.19180173e-16, -1.66979037e-17,\n",
              "        -4.43339340e-17,  3.56743742e-17, -9.06248767e-18,\n",
              "         1.00000000e+00]])"
            ]
          },
          "metadata": {
            "tags": []
          },
          "execution_count": 60
        }
      ]
    },
    {
      "cell_type": "markdown",
      "metadata": {
        "id": "Qne3RnfOL6-4",
        "colab_type": "text"
      },
      "source": [
        "## End of Part - 1\n",
        " --- --- ---"
      ]
    },
    {
      "cell_type": "markdown",
      "metadata": {
        "id": "LA-m4UYkMPTe",
        "colab_type": "text"
      },
      "source": [
        "## Part - 2\n",
        "---\n",
        "In this part, you will be working with the library ```pandas```. Import this library with an alias name ```pd```."
      ]
    },
    {
      "cell_type": "code",
      "metadata": {
        "id": "i8z7TpnZSIms",
        "colab_type": "code",
        "colab": {}
      },
      "source": [
        "# Initial imports\n",
        "import numpy as np\n",
        "import matplotlib.pyplot as plt\n",
        "import pandas as pd\n"
      ],
      "execution_count": 0,
      "outputs": []
    },
    {
      "cell_type": "markdown",
      "metadata": {
        "id": "2v-HkHnyuQ3X",
        "colab_type": "text"
      },
      "source": [
        "Download dataset from: http://biostat.mc.vanderbilt.edu/wiki/pub/Main/DataSets/titanic3.csv\n",
        "Read the data and display the first 5 rows"
      ]
    },
    {
      "cell_type": "code",
      "metadata": {
        "id": "LinX5ywNTUIm",
        "colab_type": "code",
        "colab": {
          "base_uri": "https://localhost:8080/",
          "height": 195
        },
        "outputId": "2d1e45c4-1783-456c-d69d-517b0b19175c"
      },
      "source": [
        "#Download dataset from: http://biostat.mc.vanderbilt.edu/wiki/pub/Main/DataSets/titanic3.csv\n",
        "\n",
        "file_url = \"http://biostat.mc.vanderbilt.edu/wiki/pub/Main/DataSets/titanic3.csv\"\n",
        "df=pd.read_csv(file_url)\n",
        "df.head()"
      ],
      "execution_count": 84,
      "outputs": [
        {
          "output_type": "execute_result",
          "data": {
            "text/html": [
              "<div>\n",
              "<style scoped>\n",
              "    .dataframe tbody tr th:only-of-type {\n",
              "        vertical-align: middle;\n",
              "    }\n",
              "\n",
              "    .dataframe tbody tr th {\n",
              "        vertical-align: top;\n",
              "    }\n",
              "\n",
              "    .dataframe thead th {\n",
              "        text-align: right;\n",
              "    }\n",
              "</style>\n",
              "<table border=\"1\" class=\"dataframe\">\n",
              "  <thead>\n",
              "    <tr style=\"text-align: right;\">\n",
              "      <th></th>\n",
              "      <th>pclass</th>\n",
              "      <th>survived</th>\n",
              "      <th>name</th>\n",
              "      <th>sex</th>\n",
              "      <th>age</th>\n",
              "      <th>sibsp</th>\n",
              "      <th>parch</th>\n",
              "      <th>ticket</th>\n",
              "      <th>fare</th>\n",
              "      <th>cabin</th>\n",
              "      <th>embarked</th>\n",
              "      <th>boat</th>\n",
              "      <th>body</th>\n",
              "      <th>home.dest</th>\n",
              "    </tr>\n",
              "  </thead>\n",
              "  <tbody>\n",
              "    <tr>\n",
              "      <th>0</th>\n",
              "      <td>1</td>\n",
              "      <td>1</td>\n",
              "      <td>Allen, Miss. Elisabeth Walton</td>\n",
              "      <td>female</td>\n",
              "      <td>29.00</td>\n",
              "      <td>0</td>\n",
              "      <td>0</td>\n",
              "      <td>24160</td>\n",
              "      <td>211.3375</td>\n",
              "      <td>B5</td>\n",
              "      <td>S</td>\n",
              "      <td>2</td>\n",
              "      <td>NaN</td>\n",
              "      <td>St Louis, MO</td>\n",
              "    </tr>\n",
              "    <tr>\n",
              "      <th>1</th>\n",
              "      <td>1</td>\n",
              "      <td>1</td>\n",
              "      <td>Allison, Master. Hudson Trevor</td>\n",
              "      <td>male</td>\n",
              "      <td>0.92</td>\n",
              "      <td>1</td>\n",
              "      <td>2</td>\n",
              "      <td>113781</td>\n",
              "      <td>151.5500</td>\n",
              "      <td>C22 C26</td>\n",
              "      <td>S</td>\n",
              "      <td>11</td>\n",
              "      <td>NaN</td>\n",
              "      <td>Montreal, PQ / Chesterville, ON</td>\n",
              "    </tr>\n",
              "    <tr>\n",
              "      <th>2</th>\n",
              "      <td>1</td>\n",
              "      <td>0</td>\n",
              "      <td>Allison, Miss. Helen Loraine</td>\n",
              "      <td>female</td>\n",
              "      <td>2.00</td>\n",
              "      <td>1</td>\n",
              "      <td>2</td>\n",
              "      <td>113781</td>\n",
              "      <td>151.5500</td>\n",
              "      <td>C22 C26</td>\n",
              "      <td>S</td>\n",
              "      <td>NaN</td>\n",
              "      <td>NaN</td>\n",
              "      <td>Montreal, PQ / Chesterville, ON</td>\n",
              "    </tr>\n",
              "    <tr>\n",
              "      <th>3</th>\n",
              "      <td>1</td>\n",
              "      <td>0</td>\n",
              "      <td>Allison, Mr. Hudson Joshua Creighton</td>\n",
              "      <td>male</td>\n",
              "      <td>30.00</td>\n",
              "      <td>1</td>\n",
              "      <td>2</td>\n",
              "      <td>113781</td>\n",
              "      <td>151.5500</td>\n",
              "      <td>C22 C26</td>\n",
              "      <td>S</td>\n",
              "      <td>NaN</td>\n",
              "      <td>135.0</td>\n",
              "      <td>Montreal, PQ / Chesterville, ON</td>\n",
              "    </tr>\n",
              "    <tr>\n",
              "      <th>4</th>\n",
              "      <td>1</td>\n",
              "      <td>0</td>\n",
              "      <td>Allison, Mrs. Hudson J C (Bessie Waldo Daniels)</td>\n",
              "      <td>female</td>\n",
              "      <td>25.00</td>\n",
              "      <td>1</td>\n",
              "      <td>2</td>\n",
              "      <td>113781</td>\n",
              "      <td>151.5500</td>\n",
              "      <td>C22 C26</td>\n",
              "      <td>S</td>\n",
              "      <td>NaN</td>\n",
              "      <td>NaN</td>\n",
              "      <td>Montreal, PQ / Chesterville, ON</td>\n",
              "    </tr>\n",
              "  </tbody>\n",
              "</table>\n",
              "</div>"
            ],
            "text/plain": [
              "   pclass  survived  ...   body                        home.dest\n",
              "0       1         1  ...    NaN                     St Louis, MO\n",
              "1       1         1  ...    NaN  Montreal, PQ / Chesterville, ON\n",
              "2       1         0  ...    NaN  Montreal, PQ / Chesterville, ON\n",
              "3       1         0  ...  135.0  Montreal, PQ / Chesterville, ON\n",
              "4       1         0  ...    NaN  Montreal, PQ / Chesterville, ON\n",
              "\n",
              "[5 rows x 14 columns]"
            ]
          },
          "metadata": {
            "tags": []
          },
          "execution_count": 84
        }
      ]
    },
    {
      "cell_type": "markdown",
      "metadata": {
        "id": "vTk1-mF5WYFN",
        "colab_type": "text"
      },
      "source": [
        "### Preprocessing of the Dataset"
      ]
    },
    {
      "cell_type": "markdown",
      "metadata": {
        "id": "kx9UrI9WWt17",
        "colab_type": "text"
      },
      "source": [
        "\n",
        "\n",
        "---\n",
        "\n",
        "\n",
        "**1. Convert the categorical values of columns 'sex', 'embarked', 'pclass' into dummy values and add them into titanic_data_new DataFrame**\n",
        "\n",
        "\n",
        "\n",
        "\n",
        "---\n",
        "\n"
      ]
    },
    {
      "cell_type": "code",
      "metadata": {
        "id": "AwDh9njbZ0QU",
        "colab_type": "code",
        "colab": {
          "base_uri": "https://localhost:8080/",
          "height": 252
        },
        "outputId": "41f2f88a-fda0-496e-95af-c114f56995a1"
      },
      "source": [
        "sex_dummy=pd.get_dummies(df['sex'])\n",
        "embarked_dummy=pd.get_dummies(df['embarked'])\n",
        "pclass_dummy=pd.get_dummies(df['pclass'])\n",
        "titanic_data_new=pd.concat([sex_dummy,embarked_dummy,pclass_dummy],axis=1)\n",
        "print(titanic_data_new)"
      ],
      "execution_count": 90,
      "outputs": [
        {
          "output_type": "stream",
          "text": [
            "      female  male  C  Q  S  1  2  3\n",
            "0          1     0  0  0  1  1  0  0\n",
            "1          0     1  0  0  1  1  0  0\n",
            "2          1     0  0  0  1  1  0  0\n",
            "3          0     1  0  0  1  1  0  0\n",
            "4          1     0  0  0  1  1  0  0\n",
            "...      ...   ... .. .. .. .. .. ..\n",
            "1304       1     0  1  0  0  0  0  1\n",
            "1305       1     0  1  0  0  0  0  1\n",
            "1306       0     1  1  0  0  0  0  1\n",
            "1307       0     1  1  0  0  0  0  1\n",
            "1308       0     1  0  0  1  0  0  1\n",
            "\n",
            "[1309 rows x 8 columns]\n"
          ],
          "name": "stdout"
        }
      ]
    },
    {
      "cell_type": "markdown",
      "metadata": {
        "id": "Z9bxOfzDbY-n",
        "colab_type": "text"
      },
      "source": [
        "\n",
        "\n",
        "---\n",
        "\n",
        "\n",
        "**2. Fill the missing data in Age and Fare columns with the mean value of the respected column then add these columns to titanic_data_new**\n",
        "\n",
        "\n",
        "---\n",
        "\n"
      ]
    },
    {
      "cell_type": "code",
      "metadata": {
        "id": "DNx7Pr0ehhAs",
        "colab_type": "code",
        "colab": {
          "base_uri": "https://localhost:8080/",
          "height": 252
        },
        "outputId": "22d2eaf0-abf2-4e31-f14b-f6bfa4674609"
      },
      "source": [
        "df['age_new'] = df['age'].fillna((df['age'].mean()))\n",
        "df['fare_new'] = df['fare'].fillna((df['fare'].mean()))\n",
        "titanic_data_new=pd.concat([titanic_data_new,df['age_new'],df['fare_new']],axis=1)\n",
        "print(titanic_data_new)"
      ],
      "execution_count": 91,
      "outputs": [
        {
          "output_type": "stream",
          "text": [
            "      female  male  C  Q  S  1  2  3    age_new  fare_new\n",
            "0          1     0  0  0  1  1  0  0  29.000000  211.3375\n",
            "1          0     1  0  0  1  1  0  0   0.920000  151.5500\n",
            "2          1     0  0  0  1  1  0  0   2.000000  151.5500\n",
            "3          0     1  0  0  1  1  0  0  30.000000  151.5500\n",
            "4          1     0  0  0  1  1  0  0  25.000000  151.5500\n",
            "...      ...   ... .. .. .. .. .. ..        ...       ...\n",
            "1304       1     0  1  0  0  0  0  1  14.500000   14.4542\n",
            "1305       1     0  1  0  0  0  0  1  29.881138   14.4542\n",
            "1306       0     1  1  0  0  0  0  1  26.500000    7.2250\n",
            "1307       0     1  1  0  0  0  0  1  27.000000    7.2250\n",
            "1308       0     1  0  0  1  0  0  1  29.000000    7.8750\n",
            "\n",
            "[1309 rows x 10 columns]\n"
          ],
          "name": "stdout"
        }
      ]
    },
    {
      "cell_type": "markdown",
      "metadata": {
        "id": "SlRzKfhxkd1M",
        "colab_type": "text"
      },
      "source": [
        "###Normalization\n",
        "\n",
        "\n",
        "---\n",
        "\n",
        "\n",
        "\n",
        "1. Normalize the columns which have numerical data\n",
        "\n",
        "\n",
        "\n",
        "---\n",
        "\n"
      ]
    },
    {
      "cell_type": "code",
      "metadata": {
        "id": "Y3hpu92TlM38",
        "colab_type": "code",
        "colab": {}
      },
      "source": [
        ""
      ],
      "execution_count": 0,
      "outputs": []
    },
    {
      "cell_type": "markdown",
      "metadata": {
        "id": "wB9-5x83mFAO",
        "colab_type": "text"
      },
      "source": [
        "\n",
        "\n",
        "---\n",
        "2. Drop the original age, fare columns\n",
        "3. Append the normalized columns to the titanic_data_new DataFrame.\n",
        "\n",
        "\n",
        "\n",
        "---\n",
        "\n"
      ]
    },
    {
      "cell_type": "code",
      "metadata": {
        "id": "Kb00kM0onQJy",
        "colab_type": "code",
        "colab": {}
      },
      "source": [
        ""
      ],
      "execution_count": 0,
      "outputs": []
    },
    {
      "cell_type": "markdown",
      "metadata": {
        "id": "uLxN3PozntKe",
        "colab_type": "text"
      },
      "source": [
        "###Plotting\n",
        "1. plot the age against the ID(continuous)\n",
        "2. plot the fare against the ID(scatter)"
      ]
    },
    {
      "cell_type": "code",
      "metadata": {
        "id": "LdSfNEKYn_RO",
        "colab_type": "code",
        "colab": {}
      },
      "source": [
        ""
      ],
      "execution_count": 0,
      "outputs": []
    },
    {
      "cell_type": "markdown",
      "metadata": {
        "id": "LQr7y6eevTvy",
        "colab_type": "text"
      },
      "source": [
        "## End of Part - 2\n",
        "---"
      ]
    },
    {
      "cell_type": "markdown",
      "metadata": {
        "id": "TWhZcKvfvW2B",
        "colab_type": "text"
      },
      "source": [
        "## Part - 3\n",
        "---"
      ]
    },
    {
      "cell_type": "markdown",
      "metadata": {
        "id": "8bY4H9DszQ2S",
        "colab_type": "text"
      },
      "source": [
        "In this part, you will work with the library ```matplotlib```. Import the ```pyplot``` from ```matplotlib``` with an alias name ```plt```."
      ]
    },
    {
      "cell_type": "code",
      "metadata": {
        "id": "hPN6qctRzknT",
        "colab_type": "code",
        "colab": {}
      },
      "source": [
        "import matplotlib.pyplot as plt"
      ],
      "execution_count": 0,
      "outputs": []
    },
    {
      "cell_type": "markdown",
      "metadata": {
        "id": "fQ6KX_Aezlub",
        "colab_type": "text"
      },
      "source": [
        "Plot the sine function with domain in $[-3\\pi,3\\pi]$. Label the axes appropriately. Add title $\\sin(x)$. Use latex formatting while adding the title. Set the plot size to (10,10)"
      ]
    },
    {
      "cell_type": "code",
      "metadata": {
        "id": "0tA3J5mA1cQ0",
        "colab_type": "code",
        "colab": {}
      },
      "source": [
        ""
      ],
      "execution_count": 0,
      "outputs": []
    },
    {
      "cell_type": "markdown",
      "metadata": {
        "id": "6KV7RqMm1d8P",
        "colab_type": "text"
      },
      "source": [
        "Plot $\\sin(x)$ and its spectrum, $\\cos(x)$ and its spectrum in a single plot, in the domain $[-2\\pi,2\\pi]$. Label the plot appropriately."
      ]
    },
    {
      "cell_type": "code",
      "metadata": {
        "id": "-OJuY0HO12Oo",
        "colab_type": "code",
        "colab": {}
      },
      "source": [
        ""
      ],
      "execution_count": 0,
      "outputs": []
    },
    {
      "cell_type": "markdown",
      "metadata": {
        "id": "1S6ZRm6B18ZF",
        "colab_type": "text"
      },
      "source": [
        "## End of Part - 3\n",
        "---"
      ]
    },
    {
      "cell_type": "markdown",
      "metadata": {
        "id": "MUucpzXBl096",
        "colab_type": "text"
      },
      "source": [
        "Create a Github repository with the name ***SHALA2020*** and save this assignment there."
      ]
    }
  ]
}